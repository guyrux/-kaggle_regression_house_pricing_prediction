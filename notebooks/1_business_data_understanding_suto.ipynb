{
 "cells": [
  {
   "cell_type": "markdown",
   "id": "62890fd6",
   "metadata": {},
   "source": [
    "# Business and data understanding\n",
    "\n",
    "## Purpose\n",
    "This notebook contains the business and data understanding according to [2020, Studer et al.](https://arxiv.org/abs/2003.05155) \"Towards CRISP-ML(Q): A Machine Learning Process Model with Quality Assurance Methodology\".\n",
    "\n",
    "## Methodology\n",
    "Besides the methodology described by 2020, Studer et al., I will use the [EDA framework proposed by Tony Ojeda](https://www.youtube.com/watch?v=YEBRkLo568Q).\n",
    "\n",
    "## WIP - improvements\n",
    "\n",
    "## Results\n",
    "\n",
    "## Suggested next steps\n",
    "- [ ] It was not possible to use the 'cardinalidade' function on 16 attributes. <- Next step: analyze why it happened.\n"
   ]
  },
  {
   "cell_type": "markdown",
   "id": "bb7cdddc",
   "metadata": {},
   "source": [
    "# Setup\n",
    "\n",
    "## Library import\n",
    "We import all the required Python libraries"
   ]
  },
  {
   "cell_type": "code",
   "execution_count": 20,
   "id": "0eeffc59",
   "metadata": {
    "ExecuteTime": {
     "end_time": "2022-05-30T02:23:53.496958Z",
     "start_time": "2022-05-30T02:23:53.362956Z"
    }
   },
   "outputs": [
    {
     "data": {
      "text/html": [
       "        <script type=\"text/javascript\">\n",
       "        window.PlotlyConfig = {MathJaxConfig: 'local'};\n",
       "        if (window.MathJax) {MathJax.Hub.Config({SVG: {font: \"STIX-Web\"}});}\n",
       "        if (typeof require !== 'undefined') {\n",
       "        require.undef(\"plotly\");\n",
       "        requirejs.config({\n",
       "            paths: {\n",
       "                'plotly': ['https://cdn.plot.ly/plotly-2.4.2.min']\n",
       "            }\n",
       "        });\n",
       "        require(['plotly'], function(Plotly) {\n",
       "            window._Plotly = Plotly;\n",
       "        });\n",
       "        }\n",
       "        </script>\n",
       "        "
      ]
     },
     "metadata": {},
     "output_type": "display_data"
    },
    {
     "data": {
      "text/html": [
       "        <script type=\"text/javascript\">\n",
       "        window.PlotlyConfig = {MathJaxConfig: 'local'};\n",
       "        if (window.MathJax) {MathJax.Hub.Config({SVG: {font: \"STIX-Web\"}});}\n",
       "        if (typeof require !== 'undefined') {\n",
       "        require.undef(\"plotly\");\n",
       "        requirejs.config({\n",
       "            paths: {\n",
       "                'plotly': ['https://cdn.plot.ly/plotly-2.4.2.min']\n",
       "            }\n",
       "        });\n",
       "        require(['plotly'], function(Plotly) {\n",
       "            window._Plotly = Plotly;\n",
       "        });\n",
       "        }\n",
       "        </script>\n",
       "        "
      ]
     },
     "metadata": {},
     "output_type": "display_data"
    }
   ],
   "source": [
    "import os\n",
    "\n",
    "# Data manipulation\n",
    "import pandas as pd\n",
    "import numpy as np\n",
    "\n",
    "# Options for pandas\n",
    "pd.options.display.max_columns = None\n",
    "pd.options.display.max_rows = 100\n",
    "\n",
    "# Visualizations\n",
    "import cufflinks as cf\n",
    "import matplotlib as plt\n",
    "import seaborn as sns\n",
    "import plotly\n",
    "import plotly.graph_objs as go\n",
    "import plotly.offline as ply\n",
    "\n",
    "os.chdir('../')\n",
    "from src.utils.data_describe import breve_descricao, serie_nulos, cardinalidade\n",
    "os.chdir('./notebooks/')\n",
    "\n",
    "\n",
    "plotly.offline.init_notebook_mode(connected=True)\n",
    "cf.go_offline(connected=True)\n",
    "cf.set_config_file(theme='white')\n",
    "\n",
    "# Autoreload extension\n",
    "if 'autoreload' not in get_ipython().extension_manager.loaded:\n",
    "    %load_ext autoreload\n",
    "    \n",
    "%autoreload 2"
   ]
  },
  {
   "cell_type": "markdown",
   "id": "8bc0c9d3",
   "metadata": {},
   "source": [
    "# Parameter definition\n",
    "We set all relevant parameters for our notebook. By convention, parameters are uppercase, while all the \n",
    "other variables follow Python's guidelines."
   ]
  },
  {
   "cell_type": "code",
   "execution_count": 16,
   "id": "814dc6af",
   "metadata": {
    "ExecuteTime": {
     "end_time": "2022-05-30T02:23:02.297935Z",
     "start_time": "2022-05-30T02:23:02.179938Z"
    }
   },
   "outputs": [],
   "source": [
    "RAW_FOLDER = '../data/raw/'\n",
    "RANDOM_STATE = 42"
   ]
  },
  {
   "cell_type": "markdown",
   "id": "5b89bbd8",
   "metadata": {},
   "source": [
    "\n",
    "# Data import\n",
    "We retrieve all the required data for the analysis."
   ]
  },
  {
   "cell_type": "code",
   "execution_count": 17,
   "id": "f223db3b",
   "metadata": {
    "ExecuteTime": {
     "end_time": "2022-05-30T02:23:03.535305Z",
     "start_time": "2022-05-30T02:23:03.402322Z"
    }
   },
   "outputs": [
    {
     "data": {
      "text/plain": [
       "(1460, 81)"
      ]
     },
     "execution_count": 17,
     "metadata": {},
     "output_type": "execute_result"
    }
   ],
   "source": [
    "df = pd.read_csv(RAW_FOLDER + 'train.csv')\n",
    "df.shape"
   ]
  },
  {
   "cell_type": "markdown",
   "id": "bf13e330",
   "metadata": {},
   "source": [
    "## Initial evaluation"
   ]
  },
  {
   "cell_type": "code",
   "execution_count": 40,
   "id": "cab6f222",
   "metadata": {
    "ExecuteTime": {
     "end_time": "2022-05-30T02:31:07.203787Z",
     "start_time": "2022-05-30T02:31:07.065444Z"
    }
   },
   "outputs": [
    {
     "name": "stdout",
     "output_type": "stream",
     "text": [
      "<class 'pandas.core.frame.DataFrame'>\n",
      "RangeIndex: 1460 entries, 0 to 1459\n",
      "Data columns (total 81 columns):\n",
      " #   Column         Non-Null Count  Dtype  \n",
      "---  ------         --------------  -----  \n",
      " 0   Id             1460 non-null   int64  \n",
      " 1   MSSubClass     1460 non-null   int64  \n",
      " 2   MSZoning       1460 non-null   object \n",
      " 3   LotFrontage    1201 non-null   float64\n",
      " 4   LotArea        1460 non-null   int64  \n",
      " 5   Street         1460 non-null   object \n",
      " 6   Alley          91 non-null     object \n",
      " 7   LotShape       1460 non-null   object \n",
      " 8   LandContour    1460 non-null   object \n",
      " 9   Utilities      1460 non-null   object \n",
      " 10  LotConfig      1460 non-null   object \n",
      " 11  LandSlope      1460 non-null   object \n",
      " 12  Neighborhood   1460 non-null   object \n",
      " 13  Condition1     1460 non-null   object \n",
      " 14  Condition2     1460 non-null   object \n",
      " 15  BldgType       1460 non-null   object \n",
      " 16  HouseStyle     1460 non-null   object \n",
      " 17  OverallQual    1460 non-null   int64  \n",
      " 18  OverallCond    1460 non-null   int64  \n",
      " 19  YearBuilt      1460 non-null   int64  \n",
      " 20  YearRemodAdd   1460 non-null   int64  \n",
      " 21  RoofStyle      1460 non-null   object \n",
      " 22  RoofMatl       1460 non-null   object \n",
      " 23  Exterior1st    1460 non-null   object \n",
      " 24  Exterior2nd    1460 non-null   object \n",
      " 25  MasVnrType     1452 non-null   object \n",
      " 26  MasVnrArea     1452 non-null   float64\n",
      " 27  ExterQual      1460 non-null   object \n",
      " 28  ExterCond      1460 non-null   object \n",
      " 29  Foundation     1460 non-null   object \n",
      " 30  BsmtQual       1423 non-null   object \n",
      " 31  BsmtCond       1423 non-null   object \n",
      " 32  BsmtExposure   1422 non-null   object \n",
      " 33  BsmtFinType1   1423 non-null   object \n",
      " 34  BsmtFinSF1     1460 non-null   int64  \n",
      " 35  BsmtFinType2   1422 non-null   object \n",
      " 36  BsmtFinSF2     1460 non-null   int64  \n",
      " 37  BsmtUnfSF      1460 non-null   int64  \n",
      " 38  TotalBsmtSF    1460 non-null   int64  \n",
      " 39  Heating        1460 non-null   object \n",
      " 40  HeatingQC      1460 non-null   object \n",
      " 41  CentralAir     1460 non-null   object \n",
      " 42  Electrical     1459 non-null   object \n",
      " 43  1stFlrSF       1460 non-null   int64  \n",
      " 44  2ndFlrSF       1460 non-null   int64  \n",
      " 45  LowQualFinSF   1460 non-null   int64  \n",
      " 46  GrLivArea      1460 non-null   int64  \n",
      " 47  BsmtFullBath   1460 non-null   int64  \n",
      " 48  BsmtHalfBath   1460 non-null   int64  \n",
      " 49  FullBath       1460 non-null   int64  \n",
      " 50  HalfBath       1460 non-null   int64  \n",
      " 51  BedroomAbvGr   1460 non-null   int64  \n",
      " 52  KitchenAbvGr   1460 non-null   int64  \n",
      " 53  KitchenQual    1460 non-null   object \n",
      " 54  TotRmsAbvGrd   1460 non-null   int64  \n",
      " 55  Functional     1460 non-null   object \n",
      " 56  Fireplaces     1460 non-null   int64  \n",
      " 57  FireplaceQu    770 non-null    object \n",
      " 58  GarageType     1379 non-null   object \n",
      " 59  GarageYrBlt    1379 non-null   float64\n",
      " 60  GarageFinish   1379 non-null   object \n",
      " 61  GarageCars     1460 non-null   int64  \n",
      " 62  GarageArea     1460 non-null   int64  \n",
      " 63  GarageQual     1379 non-null   object \n",
      " 64  GarageCond     1379 non-null   object \n",
      " 65  PavedDrive     1460 non-null   object \n",
      " 66  WoodDeckSF     1460 non-null   int64  \n",
      " 67  OpenPorchSF    1460 non-null   int64  \n",
      " 68  EnclosedPorch  1460 non-null   int64  \n",
      " 69  3SsnPorch      1460 non-null   int64  \n",
      " 70  ScreenPorch    1460 non-null   int64  \n",
      " 71  PoolArea       1460 non-null   int64  \n",
      " 72  PoolQC         7 non-null      object \n",
      " 73  Fence          281 non-null    object \n",
      " 74  MiscFeature    54 non-null     object \n",
      " 75  MiscVal        1460 non-null   int64  \n",
      " 76  MoSold         1460 non-null   int64  \n",
      " 77  YrSold         1460 non-null   int64  \n",
      " 78  SaleType       1460 non-null   object \n",
      " 79  SaleCondition  1460 non-null   object \n",
      " 80  SalePrice      1460 non-null   int64  \n",
      "dtypes: float64(3), int64(35), object(43)\n",
      "memory usage: 924.0+ KB\n"
     ]
    }
   ],
   "source": [
    "# Data types\n",
    "df.info()"
   ]
  },
  {
   "cell_type": "code",
   "execution_count": 52,
   "id": "6ce025b3",
   "metadata": {
    "ExecuteTime": {
     "end_time": "2022-05-30T02:41:41.273946Z",
     "start_time": "2022-05-30T02:41:41.151946Z"
    }
   },
   "outputs": [
    {
     "name": "stdout",
     "output_type": "stream",
     "text": [
      "4 atributos/features/campos possuem mais de 0.5 de valores nulos.\n"
     ]
    },
    {
     "data": {
      "text/plain": [
       "PoolQC         0.995205\n",
       "MiscFeature    0.963014\n",
       "Alley          0.937671\n",
       "Fence          0.807534\n",
       "dtype: float64"
      ]
     },
     "execution_count": 52,
     "metadata": {},
     "output_type": "execute_result"
    }
   ],
   "source": [
    "serie_nulos(df, corte=0.5)"
   ]
  },
  {
   "cell_type": "code",
   "execution_count": 47,
   "id": "5da6919c",
   "metadata": {
    "ExecuteTime": {
     "end_time": "2022-05-30T02:37:09.940193Z",
     "start_time": "2022-05-30T02:37:09.745134Z"
    }
   },
   "outputs": [
    {
     "name": "stdout",
     "output_type": "stream",
     "text": [
      "\n",
      "Using the function 'cardinalidade':\n",
      "- 16 columns could not be analyzed;\n",
      "- 27 columns could be analyzed.\n",
      "\n"
     ]
    }
   ],
   "source": [
    "lst_bad_columns = []\n",
    "lst_good_columns = []\n",
    "\n",
    "for column in df.select_dtypes(include='object').columns:\n",
    "    try:\n",
    "        cardinalidade(df[[column]])\n",
    "        lst_good_columns.append(column)\n",
    "    except Exception as e:\n",
    "        lst_bad_columns.append(column)\n",
    "        \n",
    "print(f\"\"\"\n",
    "Using the function 'cardinalidade':\n",
    "- {len(lst_bad_columns)} columns could not be analyzed;\n",
    "- {len(lst_good_columns)} columns could be analyzed.\n",
    "\"\"\")"
   ]
  },
  {
   "cell_type": "code",
   "execution_count": 48,
   "id": "27ed27db",
   "metadata": {
    "ExecuteTime": {
     "end_time": "2022-05-30T02:37:32.020684Z",
     "start_time": "2022-05-30T02:37:31.872648Z"
    }
   },
   "outputs": [
    {
     "data": {
      "text/html": [
       "<div>\n",
       "<style scoped>\n",
       "    .dataframe tbody tr th:only-of-type {\n",
       "        vertical-align: middle;\n",
       "    }\n",
       "\n",
       "    .dataframe tbody tr th {\n",
       "        vertical-align: top;\n",
       "    }\n",
       "\n",
       "    .dataframe thead th {\n",
       "        text-align: right;\n",
       "    }\n",
       "</style>\n",
       "<table border=\"1\" class=\"dataframe\">\n",
       "  <thead>\n",
       "    <tr style=\"text-align: right;\">\n",
       "      <th></th>\n",
       "      <th>Atributo</th>\n",
       "      <th>Cardinalidade</th>\n",
       "      <th>Valores</th>\n",
       "    </tr>\n",
       "  </thead>\n",
       "  <tbody>\n",
       "    <tr>\n",
       "      <th>21</th>\n",
       "      <td>CentralAir</td>\n",
       "      <td>2</td>\n",
       "      <td>[N, Y]</td>\n",
       "    </tr>\n",
       "    <tr>\n",
       "      <th>1</th>\n",
       "      <td>Street</td>\n",
       "      <td>2</td>\n",
       "      <td>[Grvl, Pave]</td>\n",
       "    </tr>\n",
       "    <tr>\n",
       "      <th>4</th>\n",
       "      <td>Utilities</td>\n",
       "      <td>2</td>\n",
       "      <td>[AllPub, NoSeWa]</td>\n",
       "    </tr>\n",
       "    <tr>\n",
       "      <th>6</th>\n",
       "      <td>LandSlope</td>\n",
       "      <td>3</td>\n",
       "      <td>[Gtl, Mod, Sev]</td>\n",
       "    </tr>\n",
       "    <tr>\n",
       "      <th>24</th>\n",
       "      <td>PavedDrive</td>\n",
       "      <td>3</td>\n",
       "      <td>[N, P, Y]</td>\n",
       "    </tr>\n",
       "    <tr>\n",
       "      <th>16</th>\n",
       "      <td>ExterQual</td>\n",
       "      <td>4</td>\n",
       "      <td>[Ex, Fa, Gd, TA]</td>\n",
       "    </tr>\n",
       "    <tr>\n",
       "      <th>22</th>\n",
       "      <td>KitchenQual</td>\n",
       "      <td>4</td>\n",
       "      <td>[Ex, Fa, Gd, TA]</td>\n",
       "    </tr>\n",
       "    <tr>\n",
       "      <th>3</th>\n",
       "      <td>LandContour</td>\n",
       "      <td>4</td>\n",
       "      <td>[Bnk, HLS, Low, Lvl]</td>\n",
       "    </tr>\n",
       "    <tr>\n",
       "      <th>2</th>\n",
       "      <td>LotShape</td>\n",
       "      <td>4</td>\n",
       "      <td>[IR1, IR2, IR3, Reg]</td>\n",
       "    </tr>\n",
       "    <tr>\n",
       "      <th>10</th>\n",
       "      <td>BldgType</td>\n",
       "      <td>5</td>\n",
       "      <td>[1Fam, 2fmCon, Duplex, Twnhs, TwnhsE]</td>\n",
       "    </tr>\n",
       "    <tr>\n",
       "      <th>17</th>\n",
       "      <td>ExterCond</td>\n",
       "      <td>5</td>\n",
       "      <td>[Ex, Fa, Gd, Po, TA]</td>\n",
       "    </tr>\n",
       "    <tr>\n",
       "      <th>20</th>\n",
       "      <td>HeatingQC</td>\n",
       "      <td>5</td>\n",
       "      <td>[Ex, Fa, Gd, Po, TA]</td>\n",
       "    </tr>\n",
       "    <tr>\n",
       "      <th>5</th>\n",
       "      <td>LotConfig</td>\n",
       "      <td>5</td>\n",
       "      <td>[Corner, CulDSac, FR2, FR3, Inside]</td>\n",
       "    </tr>\n",
       "    <tr>\n",
       "      <th>0</th>\n",
       "      <td>MSZoning</td>\n",
       "      <td>5</td>\n",
       "      <td>[C (all), FV, RH, RL, RM]</td>\n",
       "    </tr>\n",
       "    <tr>\n",
       "      <th>18</th>\n",
       "      <td>Foundation</td>\n",
       "      <td>6</td>\n",
       "      <td>[BrkTil, CBlock, PConc, Slab, Stone, Wood]</td>\n",
       "    </tr>\n",
       "    <tr>\n",
       "      <th>19</th>\n",
       "      <td>Heating</td>\n",
       "      <td>6</td>\n",
       "      <td>[Floor, GasA, GasW, Grav, OthW, Wall]</td>\n",
       "    </tr>\n",
       "    <tr>\n",
       "      <th>12</th>\n",
       "      <td>RoofStyle</td>\n",
       "      <td>6</td>\n",
       "      <td>[Flat, Gable, Gambrel, Hip, Mansard, Shed]</td>\n",
       "    </tr>\n",
       "    <tr>\n",
       "      <th>26</th>\n",
       "      <td>SaleCondition</td>\n",
       "      <td>6</td>\n",
       "      <td>[Abnorml, AdjLand, Alloca, Family, Normal, Par...</td>\n",
       "    </tr>\n",
       "    <tr>\n",
       "      <th>23</th>\n",
       "      <td>Functional</td>\n",
       "      <td>7</td>\n",
       "      <td>[Maj1, Maj2, Min1, Min2, Mod, Sev, Typ]</td>\n",
       "    </tr>\n",
       "    <tr>\n",
       "      <th>9</th>\n",
       "      <td>Condition2</td>\n",
       "      <td>8</td>\n",
       "      <td>[Artery, Feedr, Norm, PosA, PosN, RRAe, RRAn, ...</td>\n",
       "    </tr>\n",
       "    <tr>\n",
       "      <th>11</th>\n",
       "      <td>HouseStyle</td>\n",
       "      <td>8</td>\n",
       "      <td>[1.5Fin, 1.5Unf, 1Story, 2.5Fin, 2.5Unf, 2Stor...</td>\n",
       "    </tr>\n",
       "    <tr>\n",
       "      <th>13</th>\n",
       "      <td>RoofMatl</td>\n",
       "      <td>8</td>\n",
       "      <td>[ClyTile, CompShg, Membran, Metal, Roll, Tar&amp;G...</td>\n",
       "    </tr>\n",
       "    <tr>\n",
       "      <th>8</th>\n",
       "      <td>Condition1</td>\n",
       "      <td>9</td>\n",
       "      <td>[Artery, Feedr, Norm, PosA, PosN, RRAe, RRAn, ...</td>\n",
       "    </tr>\n",
       "    <tr>\n",
       "      <th>25</th>\n",
       "      <td>SaleType</td>\n",
       "      <td>9</td>\n",
       "      <td>[COD, CWD, Con, ConLD, ConLI, ConLw, New, Oth,...</td>\n",
       "    </tr>\n",
       "    <tr>\n",
       "      <th>14</th>\n",
       "      <td>Exterior1st</td>\n",
       "      <td>15</td>\n",
       "      <td>[AsbShng, AsphShn, BrkComm, BrkFace, CBlock, C...</td>\n",
       "    </tr>\n",
       "    <tr>\n",
       "      <th>15</th>\n",
       "      <td>Exterior2nd</td>\n",
       "      <td>16</td>\n",
       "      <td>[AsbShng, AsphShn, Brk Cmn, BrkFace, CBlock, C...</td>\n",
       "    </tr>\n",
       "    <tr>\n",
       "      <th>7</th>\n",
       "      <td>Neighborhood</td>\n",
       "      <td>25</td>\n",
       "      <td>[Blmngtn, Blueste, BrDale, BrkSide, ClearCr, C...</td>\n",
       "    </tr>\n",
       "  </tbody>\n",
       "</table>\n",
       "</div>"
      ],
      "text/plain": [
       "         Atributo  Cardinalidade  \\\n",
       "21     CentralAir              2   \n",
       "1          Street              2   \n",
       "4       Utilities              2   \n",
       "6       LandSlope              3   \n",
       "24     PavedDrive              3   \n",
       "16      ExterQual              4   \n",
       "22    KitchenQual              4   \n",
       "3     LandContour              4   \n",
       "2        LotShape              4   \n",
       "10       BldgType              5   \n",
       "17      ExterCond              5   \n",
       "20      HeatingQC              5   \n",
       "5       LotConfig              5   \n",
       "0        MSZoning              5   \n",
       "18     Foundation              6   \n",
       "19        Heating              6   \n",
       "12      RoofStyle              6   \n",
       "26  SaleCondition              6   \n",
       "23     Functional              7   \n",
       "9      Condition2              8   \n",
       "11     HouseStyle              8   \n",
       "13       RoofMatl              8   \n",
       "8      Condition1              9   \n",
       "25       SaleType              9   \n",
       "14    Exterior1st             15   \n",
       "15    Exterior2nd             16   \n",
       "7    Neighborhood             25   \n",
       "\n",
       "                                              Valores  \n",
       "21                                             [N, Y]  \n",
       "1                                        [Grvl, Pave]  \n",
       "4                                    [AllPub, NoSeWa]  \n",
       "6                                     [Gtl, Mod, Sev]  \n",
       "24                                          [N, P, Y]  \n",
       "16                                   [Ex, Fa, Gd, TA]  \n",
       "22                                   [Ex, Fa, Gd, TA]  \n",
       "3                                [Bnk, HLS, Low, Lvl]  \n",
       "2                                [IR1, IR2, IR3, Reg]  \n",
       "10              [1Fam, 2fmCon, Duplex, Twnhs, TwnhsE]  \n",
       "17                               [Ex, Fa, Gd, Po, TA]  \n",
       "20                               [Ex, Fa, Gd, Po, TA]  \n",
       "5                 [Corner, CulDSac, FR2, FR3, Inside]  \n",
       "0                           [C (all), FV, RH, RL, RM]  \n",
       "18         [BrkTil, CBlock, PConc, Slab, Stone, Wood]  \n",
       "19              [Floor, GasA, GasW, Grav, OthW, Wall]  \n",
       "12         [Flat, Gable, Gambrel, Hip, Mansard, Shed]  \n",
       "26  [Abnorml, AdjLand, Alloca, Family, Normal, Par...  \n",
       "23            [Maj1, Maj2, Min1, Min2, Mod, Sev, Typ]  \n",
       "9   [Artery, Feedr, Norm, PosA, PosN, RRAe, RRAn, ...  \n",
       "11  [1.5Fin, 1.5Unf, 1Story, 2.5Fin, 2.5Unf, 2Stor...  \n",
       "13  [ClyTile, CompShg, Membran, Metal, Roll, Tar&G...  \n",
       "8   [Artery, Feedr, Norm, PosA, PosN, RRAe, RRAn, ...  \n",
       "25  [COD, CWD, Con, ConLD, ConLI, ConLw, New, Oth,...  \n",
       "14  [AsbShng, AsphShn, BrkComm, BrkFace, CBlock, C...  \n",
       "15  [AsbShng, AsphShn, Brk Cmn, BrkFace, CBlock, C...  \n",
       "7   [Blmngtn, Blueste, BrDale, BrkSide, ClearCr, C...  "
      ]
     },
     "execution_count": 48,
     "metadata": {},
     "output_type": "execute_result"
    }
   ],
   "source": [
    "cardinalidade(df[lst_good_columns])"
   ]
  },
  {
   "cell_type": "code",
   "execution_count": 50,
   "id": "99de4646",
   "metadata": {
    "ExecuteTime": {
     "end_time": "2022-05-30T02:38:31.800045Z",
     "start_time": "2022-05-30T02:38:31.666495Z"
    }
   },
   "outputs": [
    {
     "name": "stdout",
     "output_type": "stream",
     "text": [
      "<class 'pandas.core.frame.DataFrame'>\n",
      "RangeIndex: 1460 entries, 0 to 1459\n",
      "Data columns (total 16 columns):\n",
      " #   Column        Non-Null Count  Dtype \n",
      "---  ------        --------------  ----- \n",
      " 0   Alley         91 non-null     object\n",
      " 1   MasVnrType    1452 non-null   object\n",
      " 2   BsmtQual      1423 non-null   object\n",
      " 3   BsmtCond      1423 non-null   object\n",
      " 4   BsmtExposure  1422 non-null   object\n",
      " 5   BsmtFinType1  1423 non-null   object\n",
      " 6   BsmtFinType2  1422 non-null   object\n",
      " 7   Electrical    1459 non-null   object\n",
      " 8   FireplaceQu   770 non-null    object\n",
      " 9   GarageType    1379 non-null   object\n",
      " 10  GarageFinish  1379 non-null   object\n",
      " 11  GarageQual    1379 non-null   object\n",
      " 12  GarageCond    1379 non-null   object\n",
      " 13  PoolQC        7 non-null      object\n",
      " 14  Fence         281 non-null    object\n",
      " 15  MiscFeature   54 non-null     object\n",
      "dtypes: object(16)\n",
      "memory usage: 182.6+ KB\n"
     ]
    }
   ],
   "source": [
    "df[lst_bad_columns].info()"
   ]
  },
  {
   "cell_type": "markdown",
   "id": "8f93a933",
   "metadata": {},
   "source": [
    "### Partial conclusions:\n",
    "- From the 91 attributes, we have:\n",
    " - float64(3), int64(35), object(43)\n",
    "\n",
    "- There are 4 attributes with more than 50% of null values:\n",
    " - PoolQC         0.995205\n",
    " - MiscFeature    0.963014\n",
    " - Alley          0.937671\n",
    " - Fence          0.807534\n",
    " \n",
    "- It was not possible to use the 'cardinalidade' function on 16 attributes. <- Next step."
   ]
  },
  {
   "cell_type": "markdown",
   "id": "0ec81a1d",
   "metadata": {},
   "source": [
    "# Data processing\n",
    "Put here the core of the notebook. Feel free di further split this section into subsections."
   ]
  },
  {
   "cell_type": "markdown",
   "id": "078e655b",
   "metadata": {},
   "source": [
    "# References\n",
    "We report here relevant references:\n",
    "1. author1, article1, journal1, year1, url1\n",
    "2. author2, article2, journal2, year2, url2"
   ]
  },
  {
   "cell_type": "code",
   "execution_count": null,
   "id": "d91751af",
   "metadata": {},
   "outputs": [],
   "source": []
  },
  {
   "cell_type": "code",
   "execution_count": null,
   "id": "0f696eb3",
   "metadata": {},
   "outputs": [],
   "source": []
  }
 ],
 "metadata": {
  "hide_input": false,
  "kernelspec": {
   "display_name": "Python 3 (ipykernel)",
   "language": "python",
   "name": "python3"
  },
  "language_info": {
   "codemirror_mode": {
    "name": "ipython",
    "version": 3
   },
   "file_extension": ".py",
   "mimetype": "text/x-python",
   "name": "python",
   "nbconvert_exporter": "python",
   "pygments_lexer": "ipython3",
   "version": "3.9.7"
  },
  "toc": {
   "base_numbering": 1,
   "nav_menu": {},
   "number_sections": true,
   "sideBar": true,
   "skip_h1_title": false,
   "title_cell": "Table of Contents",
   "title_sidebar": "Contents",
   "toc_cell": false,
   "toc_position": {},
   "toc_section_display": true,
   "toc_window_display": true
  }
 },
 "nbformat": 4,
 "nbformat_minor": 5
}
